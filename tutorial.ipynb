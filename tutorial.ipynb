{
 "cells": [
  {
   "cell_type": "code",
   "execution_count": 1,
   "id": "82fcb02a",
   "metadata": {},
   "outputs": [
    {
     "data": {
      "text/plain": [
       "\"cmudict.dict\""
      ]
     },
     "metadata": {},
     "output_type": "display_data"
    }
   ],
   "source": [
    "dict_file = \"cmudict.dict\""
   ]
  },
  {
   "cell_type": "code",
   "execution_count": 14,
   "id": "a1391e66",
   "metadata": {},
   "outputs": [
    {
     "ename": "ErrorException",
     "evalue": "syntax: invalid syntax \"slice.[entries, 2:length(entries)]\" around c:\\Users\\schno\\cmudict-vocaltract\\jl_notebook_cell_df34fa98e69747e1a8f8a730347b8e2f_W2sZmlsZQ==.jl:4",
     "output_type": "error",
     "traceback": [
      "syntax: invalid syntax \"slice.[entries, 2:length(entries)]\" around c:\\Users\\schno\\cmudict-vocaltract\\jl_notebook_cell_df34fa98e69747e1a8f8a730347b8e2f_W2sZmlsZQ==.jl:4\n",
      "\n",
      "Stacktrace:\n",
      " [1] top-level scope\n",
      "   @ c:\\Users\\schno\\cmudict-vocaltract\\jl_notebook_cell_df34fa98e69747e1a8f8a730347b8e2f_W2sZmlsZQ==.jl:4"
     ]
    }
   ],
   "source": [
    "doc = readlines(dict_file)\n",
    "entries = split.(doc, \" \")\n",
    "words = first.(entries)\n",
    "sounds = slice.[entries, 2:length(entries)]\n",
    "sounds"
   ]
  }
 ],
 "metadata": {
  "kernelspec": {
   "display_name": "Julia 1.11.3",
   "language": "julia",
   "name": "julia-1.11"
  },
  "language_info": {
   "file_extension": ".jl",
   "mimetype": "application/julia",
   "name": "julia",
   "version": "1.11.3"
  }
 },
 "nbformat": 4,
 "nbformat_minor": 5
}
